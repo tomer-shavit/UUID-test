{
 "cells": [
  {
   "cell_type": "code",
   "execution_count": 2,
   "metadata": {
    "collapsed": true
   },
   "outputs": [],
   "source": [
    "import mysql.connector\n",
    "import uuid\n",
    "import time\n",
    "import csv\n",
    "import secrets\n",
    "import json\n",
    "from uuid import UUID\n",
    "import numpy as np\n",
    "from datetime import datetime\n",
    "import psutil\n",
    "import platform"
   ]
  },
  {
   "cell_type": "code",
   "execution_count": 4,
   "outputs": [],
   "source": [
    "connection = mysql.connector.connect(\n",
    "        host=\"127.0.0.1\",\n",
    "        user=\"root\",\n",
    "        password=\"root\",\n",
    "        database=\"UUIDTestDb\")\n",
    "cursor = connection.cursor()"
   ],
   "metadata": {
    "collapsed": false
   }
  },
  {
   "cell_type": "code",
   "execution_count": 6,
   "outputs": [],
   "source": [
    "_last_v7_timestamp = None\n",
    "\n",
    "def uuid7(simulated_time_ns) -> UUID:\n",
    "    global _last_v7_timestamp\n",
    "\n",
    "    timestamp_ms = simulated_time_ns // 10**6\n",
    "    if _last_v7_timestamp is not None and timestamp_ms <= _last_v7_timestamp:\n",
    "        timestamp_ms = _last_v7_timestamp + 1\n",
    "    _last_v7_timestamp = timestamp_ms\n",
    "    uuid_int = (timestamp_ms & 0xFFFFFFFFFFFF) << 80\n",
    "    uuid_int |= secrets.randbits(76)\n",
    "    return UUID(int=uuid_int)\n",
    "\n",
    "def generate_intervals(total, avg_interval):\n",
    "    if avg_interval > 10**8:  # If average interval is greater than 100 seconds\n",
    "        # Use exponential distribution for large intervals\n",
    "        return np.random.exponential(avg_interval, total)\n",
    "    else:\n",
    "        # Use Poisson distribution for smaller intervals\n",
    "        return np.random.poisson(avg_interval, total)\n",
    "\n",
    "def generate_uuids(total, rpm):\n",
    "    uuids = []\n",
    "    # Calculate the average time between requests in nanoseconds\n",
    "    avg_time_between_requests = (60 / rpm) * 10**9\n",
    "    intervals = generate_intervals(total, avg_time_between_requests)\n",
    "    start_time = time.time_ns()\n",
    "    current_time = start_time\n",
    "\n",
    "    for i in range(total):\n",
    "        # Simulate the passage of time\n",
    "        current_time += int(intervals[i])\n",
    "        uuid = uuid7(current_time)\n",
    "        uuids.append(str(uuid))\n",
    "\n",
    "        # Print progress\n",
    "        if (i + 1) % 100000 == 0:\n",
    "            print(f\"Generated {i + 1} UUIDs\")\n",
    "\n",
    "    return uuids\n",
    "\n",
    "def clean_tables(cursor):\n",
    "    tables = [\n",
    "        'uuidv4',\n",
    "        'uuidv7_100rpm',\n",
    "        'uuidv7_1000rpm',\n",
    "        'uuidv7_5000rpm',\n",
    "        'uuidv7_10000rpm',\n",
    "        'uuidv7_10000rpm_large1',\n",
    "        'uuidv7_10000rpm_large2',\n",
    "        'uuidv7_10000rpm_large3',\n",
    "        'uuidv7_10000rpm_large4',\n",
    "        'uuidv4_large1',\n",
    "        'uuidv4_large2',\n",
    "        'uuidv4_large3',\n",
    "        'uuidv4_large4',\n",
    "        'tenant_request_v4',\n",
    "        'tenant_request_mixed_100rpm',\n",
    "        'tenant_request_mixed_1000rpm',\n",
    "        'tenant_request_mixed_5000rpm',\n",
    "        'tenant_request_mixed_10000rpm',\n",
    "        'request_tenant_mixed_100rpm',\n",
    "        'request_tenant_mixed_1000rpm',\n",
    "        'request_tenant_mixed_5000rpm',\n",
    "        'request_tenant_mixed_10000rpm'\n",
    "    ]\n",
    "    for table in tables:\n",
    "        cursor.execute(f\"TRUNCATE TABLE {table}\")\n",
    "    print(\"All tables cleaned.\")\n",
    "\n",
    "\n",
    "def get_table_size(cursor, table_name):\n",
    "    cursor.execute(f\"SELECT table_name, round(((data_length + index_length) / 1024), 2) as 'Size (KB)' FROM information_schema.TABLES WHERE table_schema = DATABASE() AND table_name = '{table_name}'\")\n",
    "    return cursor.fetchone()[1]\n",
    "\n",
    "def get_system_metrics():\n",
    "    cpu_percent = psutil.cpu_percent(interval=1)\n",
    "    memory = psutil.virtual_memory()\n",
    "    disk = psutil.disk_usage('/')\n",
    "    return {\n",
    "        'cpu_percent': cpu_percent,\n",
    "        'memory_percent': memory.percent,\n",
    "        'disk_percent': disk.percent,\n",
    "        'system': platform.system(),\n",
    "        'processor': platform.processor(),\n",
    "        'python_version': platform.python_version(),\n",
    "    }"
   ],
   "metadata": {
    "collapsed": false
   }
  },
  {
   "cell_type": "code",
   "execution_count": 14,
   "outputs": [
    {
     "data": {
      "text/plain": "UUID('5c842279-75d6-0b6f-791e-9cd36a8b1509')"
     },
     "execution_count": 14,
     "metadata": {},
     "output_type": "execute_result"
    }
   ],
   "source": [
    "uuid7(time.time_ns() + 100000000000000000000)"
   ],
   "metadata": {
    "collapsed": false
   }
  },
  {
   "cell_type": "code",
   "execution_count": 6,
   "outputs": [],
   "source": [
    "cursor.execute(\"\"\"\n",
    "CREATE TABLE IF NOT EXISTS uuidv4 (\n",
    "    uuid CHAR(36) PRIMARY KEY,\n",
    "    created_at TIMESTAMP DEFAULT CURRENT_TIMESTAMP,\n",
    "    updated_at TIMESTAMP DEFAULT CURRENT_TIMESTAMP ON UPDATE CURRENT_TIMESTAMP\n",
    ")\n",
    "\"\"\")\n",
    "\n",
    "cursor.execute(\"\"\"\n",
    "CREATE TABLE IF NOT EXISTS uuidv7 (\n",
    "    uuid CHAR(36) PRIMARY KEY,\n",
    "    created_at TIMESTAMP DEFAULT CURRENT_TIMESTAMP,\n",
    "    updated_at TIMESTAMP DEFAULT CURRENT_TIMESTAMP ON UPDATE CURRENT_TIMESTAMP\n",
    ")\n",
    "\"\"\")\n",
    "\n",
    "cursor.execute(\"\"\"\n",
    "CREATE TABLE IF NOT EXISTS uuidv7_1000rpm (\n",
    "    uuid CHAR(36) PRIMARY KEY,\n",
    "    created_at TIMESTAMP DEFAULT CURRENT_TIMESTAMP,\n",
    "    updated_at TIMESTAMP DEFAULT CURRENT_TIMESTAMP ON UPDATE CURRENT_TIMESTAMP\n",
    ")\n",
    "\"\"\")\n",
    "\n",
    "cursor.execute(\"\"\"\n",
    "CREATE TABLE IF NOT EXISTS uuidv7_5000rpm (\n",
    "    uuid CHAR(36) PRIMARY KEY,\n",
    "    created_at TIMESTAMP DEFAULT CURRENT_TIMESTAMP,\n",
    "    updated_at TIMESTAMP DEFAULT CURRENT_TIMESTAMP ON UPDATE CURRENT_TIMESTAMP\n",
    ")\n",
    "\"\"\")\n",
    "\n",
    "cursor.execute(\"\"\"\n",
    "CREATE TABLE IF NOT EXISTS uuidv7_10000rpm (\n",
    "    uuid CHAR(36) PRIMARY KEY,\n",
    "    created_at TIMESTAMP DEFAULT CURRENT_TIMESTAMP,\n",
    "    updated_at TIMESTAMP DEFAULT CURRENT_TIMESTAMP ON UPDATE CURRENT_TIMESTAMP\n",
    ")\n",
    "\"\"\")\n",
    "\n",
    "# Additional tables with increasing row sizes for UUIDv7\n",
    "cursor.execute(\"\"\"\n",
    "CREATE TABLE IF NOT EXISTS uuidv7_10000rpm_large1 (\n",
    "    uuid CHAR(36) PRIMARY KEY,\n",
    "    created_at TIMESTAMP DEFAULT CURRENT_TIMESTAMP,\n",
    "    updated_at TIMESTAMP DEFAULT CURRENT_TIMESTAMP ON UPDATE CURRENT_TIMESTAMP,\n",
    "    extra_varchar VARCHAR(100)\n",
    ")\n",
    "\"\"\")\n",
    "\n",
    "cursor.execute(\"\"\"\n",
    "CREATE TABLE IF NOT EXISTS uuidv7_10000rpm_large2 (\n",
    "    uuid CHAR(36) PRIMARY KEY,\n",
    "    created_at TIMESTAMP DEFAULT CURRENT_TIMESTAMP,\n",
    "    updated_at TIMESTAMP DEFAULT CURRENT_TIMESTAMP ON UPDATE CURRENT_TIMESTAMP,\n",
    "    extra_varchar VARCHAR(100),\n",
    "    extra_text TEXT\n",
    ")\n",
    "\"\"\")\n",
    "\n",
    "cursor.execute(\"\"\"\n",
    "CREATE TABLE IF NOT EXISTS uuidv7_10000rpm_large3 (\n",
    "    uuid CHAR(36) PRIMARY KEY,\n",
    "    created_at TIMESTAMP DEFAULT CURRENT_TIMESTAMP,\n",
    "    updated_at TIMESTAMP DEFAULT CURRENT_TIMESTAMP ON UPDATE CURRENT_TIMESTAMP,\n",
    "    extra_varchar VARCHAR(100),\n",
    "    extra_text TEXT,\n",
    "    extra_blob BLOB\n",
    ")\n",
    "\"\"\")\n",
    "\n",
    "cursor.execute(\"\"\"\n",
    "CREATE TABLE IF NOT EXISTS uuidv7_10000rpm_large4 (\n",
    "    uuid CHAR(36) PRIMARY KEY,\n",
    "    created_at TIMESTAMP DEFAULT CURRENT_TIMESTAMP,\n",
    "    updated_at TIMESTAMP DEFAULT CURRENT_TIMESTAMP ON UPDATE CURRENT_TIMESTAMP,\n",
    "    extra_varchar VARCHAR(100),\n",
    "    extra_text TEXT,\n",
    "    extra_blob BLOB,\n",
    "    extra_json JSON\n",
    ")\n",
    "\"\"\")\n",
    "\n",
    "# Additional tables with increasing row sizes for UUIDv4\n",
    "cursor.execute(\"\"\"\n",
    "CREATE TABLE IF NOT EXISTS uuidv4_large1 (\n",
    "    uuid CHAR(36) PRIMARY KEY,\n",
    "    created_at TIMESTAMP DEFAULT CURRENT_TIMESTAMP,\n",
    "    updated_at TIMESTAMP DEFAULT CURRENT_TIMESTAMP ON UPDATE CURRENT_TIMESTAMP,\n",
    "    extra_varchar VARCHAR(100)\n",
    ")\n",
    "\"\"\")\n",
    "\n",
    "cursor.execute(\"\"\"\n",
    "CREATE TABLE IF NOT EXISTS uuidv4_large2 (\n",
    "    uuid CHAR(36) PRIMARY KEY,\n",
    "    created_at TIMESTAMP DEFAULT CURRENT_TIMESTAMP,\n",
    "    updated_at TIMESTAMP DEFAULT CURRENT_TIMESTAMP ON UPDATE CURRENT_TIMESTAMP,\n",
    "    extra_varchar VARCHAR(100),\n",
    "    extra_text TEXT\n",
    ")\n",
    "\"\"\")\n",
    "\n",
    "cursor.execute(\"\"\"\n",
    "CREATE TABLE IF NOT EXISTS uuidv4_large3 (\n",
    "    uuid CHAR(36) PRIMARY KEY,\n",
    "    created_at TIMESTAMP DEFAULT CURRENT_TIMESTAMP,\n",
    "    updated_at TIMESTAMP DEFAULT CURRENT_TIMESTAMP ON UPDATE CURRENT_TIMESTAMP,\n",
    "    extra_varchar VARCHAR(100),\n",
    "    extra_text TEXT,\n",
    "    extra_blob BLOB\n",
    ")\n",
    "\"\"\")\n",
    "\n",
    "cursor.execute(\"\"\"\n",
    "CREATE TABLE IF NOT EXISTS uuidv4_large4 (\n",
    "    uuid CHAR(36) PRIMARY KEY,\n",
    "    created_at TIMESTAMP DEFAULT CURRENT_TIMESTAMP,\n",
    "    updated_at TIMESTAMP DEFAULT CURRENT_TIMESTAMP ON UPDATE CURRENT_TIMESTAMP,\n",
    "    extra_varchar VARCHAR(100),\n",
    "    extra_text TEXT,\n",
    "    extra_blob BLOB,\n",
    "    extra_json JSON\n",
    ")\n",
    "\"\"\")\n",
    "\n",
    "\n",
    "cursor.execute(\"\"\"\n",
    "CREATE TABLE IF NOT EXISTS tenant_request_v4 (\n",
    "    tenant_id CHAR(36),\n",
    "    request_id CHAR(36),\n",
    "    created_at TIMESTAMP DEFAULT CURRENT_TIMESTAMP,\n",
    "    updated_at TIMESTAMP DEFAULT CURRENT_TIMESTAMP ON UPDATE CURRENT_TIMESTAMP,\n",
    "    PRIMARY KEY (tenant_id, request_id)\n",
    ")\n",
    "\"\"\")\n",
    "\n",
    "cursor.execute(\"\"\"\n",
    "CREATE TABLE IF NOT EXISTS tenant_request_mixed_100rpm (\n",
    "    tenant_id CHAR(36),\n",
    "    request_id CHAR(36),\n",
    "    created_at TIMESTAMP DEFAULT CURRENT_TIMESTAMP,\n",
    "    updated_at TIMESTAMP DEFAULT CURRENT_TIMESTAMP ON UPDATE CURRENT_TIMESTAMP,\n",
    "    PRIMARY KEY (tenant_id, request_id)\n",
    ")\n",
    "\"\"\")\n",
    "\n",
    "cursor.execute(\"\"\"\n",
    "CREATE TABLE IF NOT EXISTS tenant_request_mixed_1000rpm (\n",
    "    tenant_id CHAR(36),\n",
    "    request_id CHAR(36),\n",
    "    created_at TIMESTAMP DEFAULT CURRENT_TIMESTAMP,\n",
    "    updated_at TIMESTAMP DEFAULT CURRENT_TIMESTAMP ON UPDATE CURRENT_TIMESTAMP,\n",
    "    PRIMARY KEY (tenant_id, request_id)\n",
    ")\n",
    "\"\"\")\n",
    "\n",
    "cursor.execute(\"\"\"\n",
    "CREATE TABLE IF NOT EXISTS tenant_request_mixed_5000rpm (\n",
    "    tenant_id CHAR(36),\n",
    "    request_id CHAR(36),\n",
    "    created_at TIMESTAMP DEFAULT CURRENT_TIMESTAMP,\n",
    "    updated_at TIMESTAMP DEFAULT CURRENT_TIMESTAMP ON UPDATE CURRENT_TIMESTAMP,\n",
    "    PRIMARY KEY (tenant_id, request_id)\n",
    ")\n",
    "\"\"\")\n",
    "\n",
    "\n",
    "cursor.execute(\"\"\"\n",
    "CREATE TABLE IF NOT EXISTS tenant_request_mixed_10000rpm (\n",
    "    tenant_id CHAR(36),\n",
    "    request_id CHAR(36),\n",
    "    created_at TIMESTAMP DEFAULT CURRENT_TIMESTAMP,\n",
    "    updated_at TIMESTAMP DEFAULT CURRENT_TIMESTAMP ON UPDATE CURRENT_TIMESTAMP,\n",
    "    PRIMARY KEY (tenant_id, request_id)\n",
    ")\n",
    "\"\"\")\n",
    "\n",
    "cursor.execute(\"\"\"\n",
    "CREATE TABLE IF NOT EXISTS request_tenant_mixed_100rpm (\n",
    "    request_id CHAR(36),\n",
    "    tenant_id CHAR(36),\n",
    "    created_at TIMESTAMP DEFAULT CURRENT_TIMESTAMP,\n",
    "    updated_at TIMESTAMP DEFAULT CURRENT_TIMESTAMP ON UPDATE CURRENT_TIMESTAMP,\n",
    "    PRIMARY KEY (request_id, tenant_id)\n",
    ")\n",
    "\"\"\")\n",
    "\n",
    "cursor.execute(\"\"\"\n",
    "CREATE TABLE IF NOT EXISTS request_tenant_mixed_1000rpm (\n",
    "    request_id CHAR(36),\n",
    "    tenant_id CHAR(36),\n",
    "    created_at TIMESTAMP DEFAULT CURRENT_TIMESTAMP,\n",
    "    updated_at TIMESTAMP DEFAULT CURRENT_TIMESTAMP ON UPDATE CURRENT_TIMESTAMP,\n",
    "    PRIMARY KEY (request_id, tenant_id)\n",
    ")\n",
    "\"\"\")\n",
    "\n",
    "cursor.execute(\"\"\"\n",
    "CREATE TABLE IF NOT EXISTS request_tenant_mixed_5000rpm (\n",
    "    request_id CHAR(36),\n",
    "    tenant_id CHAR(36),\n",
    "    created_at TIMESTAMP DEFAULT CURRENT_TIMESTAMP,\n",
    "    updated_at TIMESTAMP DEFAULT CURRENT_TIMESTAMP ON UPDATE CURRENT_TIMESTAMP,\n",
    "    PRIMARY KEY (request_id, tenant_id)\n",
    ")\n",
    "\"\"\")\n",
    "\n",
    "cursor.execute(\"\"\"\n",
    "CREATE TABLE IF NOT EXISTS request_tenant_mixed_10000rpm (\n",
    "    request_id CHAR(36),\n",
    "    tenant_id CHAR(36),\n",
    "    created_at TIMESTAMP DEFAULT CURRENT_TIMESTAMP,\n",
    "    updated_at TIMESTAMP DEFAULT CURRENT_TIMESTAMP ON UPDATE CURRENT_TIMESTAMP,\n",
    "    PRIMARY KEY (request_id, tenant_id)\n",
    ")\n",
    "\"\"\")"
   ],
   "metadata": {
    "collapsed": false
   }
  },
  {
   "cell_type": "code",
   "execution_count": null,
   "outputs": [],
   "source": [
    "cursor.execute(\"\"\"\n",
    "CREATE TABLE IF NOT EXISTS subscription_user_v4(\n",
    "    subscription_id VARCHAR(36),\n",
    "    user_id VARCHAR(36),\n",
    "    meta_site_id VARCHAR(36),\n",
    "    billing_reference_id VARCHAR(36),\n",
    "    cycle_id INT\n",
    "    product_id INT\n",
    "    status VARCHAR(20)\n",
    "    subscription JSON\n",
    "    created_at TIMESTAMP DEFAULT CURRENT_TIMESTAMP,\n",
    "    updated_at TIMESTAMP DEFAULT CURRENT_TIMESTAMP ON UPDATE CURRENT_TIMESTAMP,\n",
    "    PRIMARY KEY (subscription_id, user_id)\n",
    ")\n",
    "\"\"\")\n",
    "cursor.execute(\"\"\"\n",
    "CREATE TABLE IF NOT EXISTS subscription_user_mixed(\n",
    "    subscription_id VARCHAR(36),\n",
    "    user_id VARCHAR(36),\n",
    "    meta_site_id VARCHAR(36),\n",
    "    billing_reference_id VARCHAR(36),\n",
    "    cycle_id INT\n",
    "    product_id INT\n",
    "    status VARCHAR(20)\n",
    "    subscription JSON\n",
    "    created_at TIMESTAMP DEFAULT CURRENT_TIMESTAMP,\n",
    "    updated_at TIMESTAMP DEFAULT CURRENT_TIMESTAMP ON UPDATE CURRENT_TIMESTAMP,\n",
    "    PRIMARY KEY (subscription_id, user_id)\n",
    ")\n",
    "\"\"\")\n",
    "\n",
    "cursor.execute(\"\"\"\n",
    "CREATE TABLE IF NOT EXISTS user_subscription_mixed(\n",
    "    user_id VARCHAR(36),\n",
    "    subscription_id VARCHAR(36),\n",
    "    meta_site_id VARCHAR(36),\n",
    "    billing_reference_id VARCHAR(36),\n",
    "    cycle_id INT\n",
    "    product_id INT\n",
    "    status VARCHAR(20)\n",
    "    subscription JSON\n",
    "    created_at TIMESTAMP DEFAULT CURRENT_TIMESTAMP,\n",
    "    updated_at TIMESTAMP DEFAULT CURRENT_TIMESTAMP ON UPDATE CURRENT_TIMESTAMP,\n",
    "    PRIMARY KEY (user_id, subscription_id)\n",
    ")\n",
    "\"\"\")"
   ],
   "metadata": {
    "collapsed": false
   }
  },
  {
   "cell_type": "code",
   "execution_count": 7,
   "outputs": [],
   "source": [
    "RECORDS_NUM = 1000"
   ],
   "metadata": {
    "collapsed": false
   }
  },
  {
   "cell_type": "code",
   "execution_count": 8,
   "outputs": [
    {
     "name": "stdout",
     "output_type": "stream",
     "text": [
      "Generating UUIDs...\n",
      "UUID generation complete\n"
     ]
    }
   ],
   "source": [
    "# Generate UUIDs in advance\n",
    "print(\"Generating UUIDs...\")\n",
    "uuidv4_list = [str(uuid.uuid4()) for _ in range(RECORDS_NUM)]\n",
    "uuidv7_lists = {\n",
    "    \"100rpm\": generate_uuids(RECORDS_NUM, 100),\n",
    "    \"1000rpm\": generate_uuids(RECORDS_NUM, 1000),\n",
    "    \"5000rpm\": generate_uuids(RECORDS_NUM, 5000),\n",
    "    \"10000rpm\": generate_uuids(RECORDS_NUM, 10000)\n",
    "}\n",
    "print(\"UUID generation complete\")\n",
    "\n",
    "results = []"
   ],
   "metadata": {
    "collapsed": false
   }
  },
  {
   "cell_type": "code",
   "execution_count": 9,
   "outputs": [],
   "source": [
    "# Define dummy data\n",
    "extra_varchar_data = 'a' * 100\n",
    "extra_text_data = 'Lorem ipsum dolor sit amet, consectetur adipiscing elit.' * 10\n",
    "extra_blob_data = bytes([0] * 1024)\n",
    "extra_json_data = json.dumps({\"key\": \"value\", \"numbers\": list(range(100))})"
   ],
   "metadata": {
    "collapsed": false
   }
  },
  {
   "cell_type": "code",
   "execution_count": 10,
   "outputs": [
    {
     "name": "stdout",
     "output_type": "stream",
     "text": [
      "Inserting UUIDv4...\n",
      "All tables cleaned.\n"
     ]
    }
   ],
   "source": [
    "# Test UUIDv4\n",
    "print(\"Inserting UUIDv4...\")\n",
    "system_metrics = get_system_metrics()\n",
    "start_time = time.time()\n",
    "for uuid_value in uuidv4_list:\n",
    "    cursor.execute(\"INSERT INTO uuidv4 (uuid) VALUES (%s)\", (uuid_value,))\n",
    "connection.commit()\n",
    "end_time = time.time()\n",
    "uuidv4_time = end_time - start_time\n",
    "uuidv4_size = get_table_size(cursor, \"uuidv4\")\n",
    "results.append(('UUIDv4', uuidv4_time, uuidv4_size, system_metrics))\n",
    "\n",
    "clean_tables(cursor)"
   ],
   "metadata": {
    "collapsed": false
   }
  },
  {
   "cell_type": "code",
   "execution_count": 11,
   "outputs": [
    {
     "name": "stdout",
     "output_type": "stream",
     "text": [
      "Inserting UUIDv7 at 100rpm...\n",
      "Inserting UUIDv7 at 1000rpm...\n",
      "Inserting UUIDv7 at 5000rpm...\n",
      "Inserting UUIDv7 at 10000rpm...\n",
      "All tables cleaned.\n"
     ]
    }
   ],
   "source": [
    "# Test UUIDv7 at different RPM rates\n",
    "for rpm, uuidv7_list in uuidv7_lists.items():\n",
    "    print(f\"Inserting UUIDv7 at {rpm}...\")\n",
    "    system_metrics = get_system_metrics()\n",
    "    start_time = time.time()\n",
    "    for uuid_value in uuidv7_list:\n",
    "        cursor.execute(f\"INSERT INTO uuidv7_{rpm} (uuid) VALUES (%s)\", (uuid_value,))\n",
    "    connection.commit()\n",
    "    end_time = time.time()\n",
    "    insertion_time = end_time - start_time\n",
    "    table_size = get_table_size(cursor, f\"uuidv7_{rpm}\")\n",
    "    results.append((f'UUIDv7_{rpm}', insertion_time, table_size, system_metrics))\n",
    "\n",
    "clean_tables(cursor)"
   ],
   "metadata": {
    "collapsed": false
   }
  },
  {
   "cell_type": "code",
   "execution_count": 12,
   "outputs": [
    {
     "name": "stdout",
     "output_type": "stream",
     "text": [
      "Inserting Tenant-Request V4...\n",
      "All tables cleaned.\n"
     ]
    }
   ],
   "source": [
    "# Test Tenant-Request V4\n",
    "print(\"Inserting Tenant-Request V4...\")\n",
    "system_metrics = get_system_metrics()\n",
    "start_time = time.time()\n",
    "for tenant_id in uuidv4_list:\n",
    "    request_id = str(uuid.uuid4())\n",
    "    cursor.execute(\"INSERT INTO tenant_request_v4 (tenant_id, request_id) VALUES (%s, %s)\", (tenant_id, request_id))\n",
    "connection.commit()\n",
    "end_time = time.time()\n",
    "tenant_request_v4_time = end_time - start_time\n",
    "tenant_request_v4_size = get_table_size(cursor, \"tenant_request_v4\")\n",
    "results.append(('Tenant-Request V4', tenant_request_v4_time, tenant_request_v4_size, system_metrics))\n",
    "\n",
    "clean_tables(cursor)"
   ],
   "metadata": {
    "collapsed": false
   }
  },
  {
   "cell_type": "code",
   "execution_count": 13,
   "outputs": [
    {
     "name": "stdout",
     "output_type": "stream",
     "text": [
      "Inserting Tenant-Request Mixed at 100rpm...\n",
      "Inserting Request-Tenant Mixed at 100rpm...\n",
      "Inserting Tenant-Request Mixed at 1000rpm...\n",
      "Inserting Request-Tenant Mixed at 1000rpm...\n",
      "Inserting Tenant-Request Mixed at 5000rpm...\n",
      "Inserting Request-Tenant Mixed at 5000rpm...\n",
      "Inserting Tenant-Request Mixed at 10000rpm...\n",
      "Inserting Request-Tenant Mixed at 10000rpm...\n",
      "All tables cleaned.\n"
     ]
    }
   ],
   "source": [
    "# Test Tenant-Request Mixed and Request-Tenant Mixed at different RPM rates\n",
    "for rpm, uuidv7_list in uuidv7_lists.items():\n",
    "    print(f\"Inserting Tenant-Request Mixed at {rpm}...\")\n",
    "    system_metrics = get_system_metrics()\n",
    "    start_time = time.time()\n",
    "    for tenant_id, request_id in zip(uuidv4_list, uuidv7_list):\n",
    "        cursor.execute(f\"INSERT INTO tenant_request_mixed_{rpm} (tenant_id, request_id) VALUES (%s, %s)\", (tenant_id, request_id))\n",
    "    connection.commit()\n",
    "    end_time = time.time()\n",
    "    insertion_time = end_time - start_time\n",
    "    table_size = get_table_size(cursor, f\"tenant_request_mixed_{rpm}\")\n",
    "    results.append((f'Tenant-Request Mixed_{rpm}', insertion_time, table_size, system_metrics))\n",
    "\n",
    "    print(f\"Inserting Request-Tenant Mixed at {rpm}...\")\n",
    "    system_metrics = get_system_metrics()\n",
    "    start_time = time.time()\n",
    "    for request_id, tenant_id in zip(uuidv7_list, uuidv4_list):\n",
    "        cursor.execute(f\"INSERT INTO request_tenant_mixed_{rpm} (request_id, tenant_id) VALUES (%s, %s)\", (request_id, tenant_id))\n",
    "    connection.commit()\n",
    "    end_time = time.time()\n",
    "    insertion_time = end_time - start_time\n",
    "    table_size = get_table_size(cursor, f\"request_tenant_mixed_{rpm}\")\n",
    "    results.append((f'Request-Tenant Mixed_{rpm}', insertion_time, table_size, system_metrics))\n",
    "\n",
    "clean_tables(cursor)"
   ],
   "metadata": {
    "collapsed": false
   }
  },
  {
   "cell_type": "code",
   "execution_count": 14,
   "outputs": [
    {
     "name": "stdout",
     "output_type": "stream",
     "text": [
      "Inserting into uuidv4_large1...\n",
      "Inserting into uuidv4_large2...\n",
      "Inserting into uuidv4_large3...\n",
      "Inserting into uuidv4_large4...\n",
      "All tables cleaned.\n"
     ]
    }
   ],
   "source": [
    "# Test for UUIDv4 tables with increasing row sizes\n",
    "uuidv4_tables = [\n",
    "    ('uuidv4_large1', ('uuid', 'extra_varchar'), (uuidv4_list, extra_varchar_data)),\n",
    "    ('uuidv4_large2', ('uuid', 'extra_varchar', 'extra_text'), (uuidv4_list, extra_varchar_data, extra_text_data)),\n",
    "    ('uuidv4_large3', ('uuid', 'extra_varchar', 'extra_text', 'extra_blob'), (uuidv4_list, extra_varchar_data, extra_text_data, extra_blob_data)),\n",
    "    ('uuidv4_large4', ('uuid', 'extra_varchar', 'extra_text', 'extra_blob', 'extra_json'), (uuidv4_list, extra_varchar_data, extra_text_data, extra_blob_data, extra_json_data))\n",
    "]\n",
    "\n",
    "for table_name, columns, data in uuidv4_tables:\n",
    "    print(f\"Inserting into {table_name}...\")\n",
    "    system_metrics = get_system_metrics()\n",
    "    start_time = time.time()\n",
    "    for i in range(RECORDS_NUM):\n",
    "        cursor.execute(f\"INSERT INTO {table_name} ({', '.join(columns)}) VALUES ({', '.join(['%s'] * len(columns))})\",\n",
    "                       tuple(d[i] if isinstance(d, list) else d for d in data))\n",
    "    connection.commit()\n",
    "    end_time = time.time()\n",
    "    insertion_time = end_time - start_time\n",
    "    table_size = get_table_size(cursor, table_name)\n",
    "    results.append((table_name, insertion_time, table_size, system_metrics))\n",
    "\n",
    "clean_tables(cursor)"
   ],
   "metadata": {
    "collapsed": false
   }
  },
  {
   "cell_type": "code",
   "execution_count": 15,
   "outputs": [
    {
     "name": "stdout",
     "output_type": "stream",
     "text": [
      "Inserting into uuidv7_10000rpm_large1...\n",
      "Inserting into uuidv7_10000rpm_large2...\n",
      "Inserting into uuidv7_10000rpm_large3...\n",
      "Inserting into uuidv7_10000rpm_large4...\n",
      "All tables cleaned.\n"
     ]
    }
   ],
   "source": [
    "# Test for UUIDv7 tables with increasing row sizes\n",
    "uuidv7_tables = [\n",
    "    ('uuidv7_10000rpm_large1', ('uuid', 'extra_varchar'), (uuidv7_lists[\"10000rpm\"], extra_varchar_data)),\n",
    "    ('uuidv7_10000rpm_large2', ('uuid', 'extra_varchar', 'extra_text'), (uuidv7_lists[\"10000rpm\"], extra_varchar_data, extra_text_data)),\n",
    "    ('uuidv7_10000rpm_large3', ('uuid', 'extra_varchar', 'extra_text', 'extra_blob'), (uuidv7_lists[\"10000rpm\"], extra_varchar_data, extra_text_data, extra_blob_data)),\n",
    "    ('uuidv7_10000rpm_large4', ('uuid', 'extra_varchar', 'extra_text', 'extra_blob', 'extra_json'), (uuidv7_lists[\"10000rpm\"], extra_varchar_data, extra_text_data, extra_blob_data, extra_json_data))\n",
    "]\n",
    "\n",
    "for table_name, columns, data in uuidv7_tables:\n",
    "    print(f\"Inserting into {table_name}...\")\n",
    "    system_metrics = get_system_metrics()\n",
    "    start_time = time.time()\n",
    "    for i in range(RECORDS_NUM):\n",
    "        cursor.execute(f\"INSERT INTO {table_name} ({', '.join(columns)}) VALUES ({', '.join(['%s'] * len(columns))})\",\n",
    "                       tuple(d[i] if isinstance(d, list) else d for d in data))\n",
    "    connection.commit()\n",
    "    end_time = time.time()\n",
    "    insertion_time = end_time - start_time\n",
    "    table_size = get_table_size(cursor, table_name)\n",
    "    results.append((table_name, insertion_time, table_size, system_metrics))\n",
    "\n",
    "clean_tables(cursor)"
   ],
   "metadata": {
    "collapsed": false
   }
  },
  {
   "cell_type": "code",
   "execution_count": 16,
   "outputs": [
    {
     "name": "stdout",
     "output_type": "stream",
     "text": [
      "UUIDv4 insertion time: 0.11 seconds\n",
      "UUIDv4 table size: 16.00 KB\n",
      "UUIDv7_100rpm insertion time: 0.10 seconds\n",
      "UUIDv7_100rpm table size: 16.00 KB\n",
      "UUIDv7_1000rpm insertion time: 0.09 seconds\n",
      "UUIDv7_1000rpm table size: 16.00 KB\n",
      "UUIDv7_5000rpm insertion time: 0.10 seconds\n",
      "UUIDv7_5000rpm table size: 16.00 KB\n",
      "UUIDv7_10000rpm insertion time: 0.10 seconds\n",
      "UUIDv7_10000rpm table size: 16.00 KB\n",
      "Tenant-Request V4 insertion time: 0.12 seconds\n",
      "Tenant-Request V4 table size: 16.00 KB\n",
      "Tenant-Request Mixed_100rpm insertion time: 0.11 seconds\n",
      "Tenant-Request Mixed_100rpm table size: 16.00 KB\n",
      "Request-Tenant Mixed_100rpm insertion time: 0.11 seconds\n",
      "Request-Tenant Mixed_100rpm table size: 16.00 KB\n",
      "Tenant-Request Mixed_1000rpm insertion time: 0.11 seconds\n",
      "Tenant-Request Mixed_1000rpm table size: 16.00 KB\n",
      "Request-Tenant Mixed_1000rpm insertion time: 0.10 seconds\n",
      "Request-Tenant Mixed_1000rpm table size: 16.00 KB\n",
      "Tenant-Request Mixed_5000rpm insertion time: 0.11 seconds\n",
      "Tenant-Request Mixed_5000rpm table size: 16.00 KB\n",
      "Request-Tenant Mixed_5000rpm insertion time: 0.11 seconds\n",
      "Request-Tenant Mixed_5000rpm table size: 16.00 KB\n",
      "Tenant-Request Mixed_10000rpm insertion time: 0.11 seconds\n",
      "Tenant-Request Mixed_10000rpm table size: 16.00 KB\n",
      "Request-Tenant Mixed_10000rpm insertion time: 0.24 seconds\n",
      "Request-Tenant Mixed_10000rpm table size: 16.00 KB\n",
      "uuidv4_large1 insertion time: 0.16 seconds\n",
      "uuidv4_large1 table size: 16.00 KB\n",
      "uuidv4_large2 insertion time: 0.20 seconds\n",
      "uuidv4_large2 table size: 16.00 KB\n",
      "uuidv4_large3 insertion time: 0.24 seconds\n",
      "uuidv4_large3 table size: 16.00 KB\n",
      "uuidv4_large4 insertion time: 0.26 seconds\n",
      "uuidv4_large4 table size: 16.00 KB\n",
      "uuidv7_10000rpm_large1 insertion time: 0.12 seconds\n",
      "uuidv7_10000rpm_large1 table size: 16.00 KB\n",
      "uuidv7_10000rpm_large2 insertion time: 0.19 seconds\n",
      "uuidv7_10000rpm_large2 table size: 16.00 KB\n",
      "uuidv7_10000rpm_large3 insertion time: 0.23 seconds\n",
      "uuidv7_10000rpm_large3 table size: 16.00 KB\n",
      "uuidv7_10000rpm_large4 insertion time: 0.25 seconds\n",
      "uuidv7_10000rpm_large4 table size: 16.00 KB\n"
     ]
    }
   ],
   "source": [
    "# Print results\n",
    "for result in results:\n",
    "    print(f\"{result[0]} insertion time: {result[1]:.2f} seconds\")\n",
    "    print(f\"{result[0]} table size: {result[2]:.2f} KB\")"
   ],
   "metadata": {
    "collapsed": false
   }
  },
  {
   "cell_type": "code",
   "execution_count": 17,
   "outputs": [
    {
     "name": "stdout",
     "output_type": "stream",
     "text": [
      "Results saved to mysql_insertion_test_results_1000_records_20240731_090617.csv\n"
     ]
    }
   ],
   "source": [
    "# Save results to CSV\n",
    "timestamp = datetime.now().strftime(\"%Y%m%d_%H%M%S\")\n",
    "csv_filename = f\"mysql_insertion_test_results_{RECORDS_NUM}_records_{timestamp}.csv\"\n",
    "\n",
    "with open(csv_filename, 'w', newline='') as csvfile:\n",
    "    csvwriter = csv.writer(csvfile)\n",
    "    csvwriter.writerow(['ID Type', 'Insertion Time (s)', 'Table Size (KB)'])\n",
    "    csvwriter.writerows(results)\n",
    "\n",
    "print(f\"Results saved to {csv_filename}\")\n"
   ],
   "metadata": {
    "collapsed": false
   }
  },
  {
   "cell_type": "code",
   "execution_count": 18,
   "outputs": [
    {
     "name": "stdout",
     "output_type": "stream",
     "text": [
      "All tables cleaned.\n"
     ]
    }
   ],
   "source": [
    "# Clean tables after the test\n",
    "clean_tables(cursor)"
   ],
   "metadata": {
    "collapsed": false
   }
  },
  {
   "cell_type": "code",
   "execution_count": 19,
   "outputs": [],
   "source": [
    "connection.close()"
   ],
   "metadata": {
    "collapsed": false
   }
  },
  {
   "cell_type": "code",
   "execution_count": 118,
   "outputs": [],
   "source": [],
   "metadata": {
    "collapsed": false
   }
  },
  {
   "cell_type": "code",
   "execution_count": null,
   "outputs": [],
   "source": [],
   "metadata": {
    "collapsed": false
   }
  }
 ],
 "metadata": {
  "kernelspec": {
   "display_name": "Python 3",
   "language": "python",
   "name": "python3"
  },
  "language_info": {
   "codemirror_mode": {
    "name": "ipython",
    "version": 2
   },
   "file_extension": ".py",
   "mimetype": "text/x-python",
   "name": "python",
   "nbconvert_exporter": "python",
   "pygments_lexer": "ipython2",
   "version": "2.7.6"
  }
 },
 "nbformat": 4,
 "nbformat_minor": 0
}
